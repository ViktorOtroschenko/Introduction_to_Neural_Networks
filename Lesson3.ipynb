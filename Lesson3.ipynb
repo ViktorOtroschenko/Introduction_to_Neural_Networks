{
 "cells": [
  {
   "cell_type": "markdown",
   "id": "a3283784",
   "metadata": {},
   "source": [
    "## ДЗ в процессе выполнения ..."
   ]
  },
  {
   "cell_type": "markdown",
   "id": "0e2e897f",
   "metadata": {},
   "source": [
    "## Урок 3. TensorFlow"
   ]
  },
  {
   "cell_type": "markdown",
   "id": "1fe05ebe",
   "metadata": {},
   "source": [
    "## Практическое задание\n",
    "\n",
    "  1. Постройте нейронную сеть(берем простую линейную сеть, которую разбирали на уроке: меняем число слоев, число нейронов , типы активации, тип оптимизатора)  на датасет from sklearn.datasets import load_boston. \n",
    "  2. Измените функцию потерь и метрику для этой задачи. Постройте 10-15 вариантов и сведите результаты их работы в таблицу  Опишите, какого результата вы добились от нейросети? Что помогло вам улучшить ее точность?\n",
    "\n",
    "  3. Поработайте с документацией TensorFlow 2. Найти 2-3 полезные команды TensorFlow, не разобранные на уроке (полезные для Вас).\n",
    "\n",
    "  1-2. (*)  Попробуйте обучить нейронную сеть на TensorFlow 2 на датасете imdb_reviews .Опишите, какого результата вы добились от нейросети? Что помогло вам улучшить ее точность?\n",
    "    \n",
    "    \n",
    "</ol>\n",
    "\n",
    "\n",
    "\n",
    "## Набор данных для последнего ДЗ\n",
    "\n",
    "- COVID 19 диагностика https://www.kaggle.com/andrewmvd/covid19-ct-scans\n",
    "\n",
    "- Распознавание изображений цифр в представлении языка жестов https://www.kaggle.com/ardamavi/sign-language-digits-dataset"
   ]
  },
  {
   "cell_type": "code",
   "execution_count": null,
   "id": "47c421a6",
   "metadata": {},
   "outputs": [],
   "source": []
  }
 ],
 "metadata": {
  "kernelspec": {
   "display_name": "Python 3",
   "language": "python",
   "name": "python3"
  },
  "language_info": {
   "codemirror_mode": {
    "name": "ipython",
    "version": 3
   },
   "file_extension": ".py",
   "mimetype": "text/x-python",
   "name": "python",
   "nbconvert_exporter": "python",
   "pygments_lexer": "ipython3",
   "version": "3.7.10"
  }
 },
 "nbformat": 4,
 "nbformat_minor": 5
}
