{
  "nbformat": 4,
  "nbformat_minor": 0,
  "metadata": {
    "colab": {
      "name": "Lesson4.ipynb",
      "provenance": [],
      "collapsed_sections": [],
      "toc_visible": true,
      "authorship_tag": "ABX9TyMq5G4y6NJZLbnf5YDWQ5RS",
      "include_colab_link": true
    },
    "kernelspec": {
      "name": "python3",
      "display_name": "Python 3"
    },
    "language_info": {
      "name": "python"
    },
    "accelerator": "GPU",
    "widgets": {
      "application/vnd.jupyter.widget-state+json": {
        "565ec8547f974e59977049f0ad9e6675": {
          "model_module": "@jupyter-widgets/controls",
          "model_name": "HBoxModel",
          "state": {
            "_view_name": "HBoxView",
            "_dom_classes": [],
            "_model_name": "HBoxModel",
            "_view_module": "@jupyter-widgets/controls",
            "_model_module_version": "1.5.0",
            "_view_count": null,
            "_view_module_version": "1.5.0",
            "box_style": "",
            "layout": "IPY_MODEL_e452a69d8a784a7bab749314fd8d07a6",
            "_model_module": "@jupyter-widgets/controls",
            "children": [
              "IPY_MODEL_9b4c73d0f4bb455dace41d9f9d639cec",
              "IPY_MODEL_ad4b1a31685147268600dd4fd3735b9b"
            ]
          }
        },
        "e452a69d8a784a7bab749314fd8d07a6": {
          "model_module": "@jupyter-widgets/base",
          "model_name": "LayoutModel",
          "state": {
            "_view_name": "LayoutView",
            "grid_template_rows": null,
            "right": null,
            "justify_content": null,
            "_view_module": "@jupyter-widgets/base",
            "overflow": null,
            "_model_module_version": "1.2.0",
            "_view_count": null,
            "flex_flow": null,
            "width": null,
            "min_width": null,
            "border": null,
            "align_items": null,
            "bottom": null,
            "_model_module": "@jupyter-widgets/base",
            "top": null,
            "grid_column": null,
            "overflow_y": null,
            "overflow_x": null,
            "grid_auto_flow": null,
            "grid_area": null,
            "grid_template_columns": null,
            "flex": null,
            "_model_name": "LayoutModel",
            "justify_items": null,
            "grid_row": null,
            "max_height": null,
            "align_content": null,
            "visibility": null,
            "align_self": null,
            "height": null,
            "min_height": null,
            "padding": null,
            "grid_auto_rows": null,
            "grid_gap": null,
            "max_width": null,
            "order": null,
            "_view_module_version": "1.2.0",
            "grid_template_areas": null,
            "object_position": null,
            "object_fit": null,
            "grid_auto_columns": null,
            "margin": null,
            "display": null,
            "left": null
          }
        },
        "9b4c73d0f4bb455dace41d9f9d639cec": {
          "model_module": "@jupyter-widgets/controls",
          "model_name": "FloatProgressModel",
          "state": {
            "_view_name": "ProgressView",
            "style": "IPY_MODEL_0fcee7bc619f47a28ff2791bd7e9747d",
            "_dom_classes": [],
            "description": "100%",
            "_model_name": "FloatProgressModel",
            "bar_style": "success",
            "max": 8,
            "_view_module": "@jupyter-widgets/controls",
            "_model_module_version": "1.5.0",
            "value": 8,
            "_view_count": null,
            "_view_module_version": "1.5.0",
            "orientation": "horizontal",
            "min": 0,
            "description_tooltip": null,
            "_model_module": "@jupyter-widgets/controls",
            "layout": "IPY_MODEL_0b233cdf91154772be2c2e4b994ad1ff"
          }
        },
        "ad4b1a31685147268600dd4fd3735b9b": {
          "model_module": "@jupyter-widgets/controls",
          "model_name": "HTMLModel",
          "state": {
            "_view_name": "HTMLView",
            "style": "IPY_MODEL_f60f04294dcd4dd99adab05ea4038c25",
            "_dom_classes": [],
            "description": "",
            "_model_name": "HTMLModel",
            "placeholder": "​",
            "_view_module": "@jupyter-widgets/controls",
            "_model_module_version": "1.5.0",
            "value": " 8/8 [35:01&lt;00:00, 262.67s/it]",
            "_view_count": null,
            "_view_module_version": "1.5.0",
            "description_tooltip": null,
            "_model_module": "@jupyter-widgets/controls",
            "layout": "IPY_MODEL_8cdaee47518a4297a16938e381a9a2fd"
          }
        },
        "0fcee7bc619f47a28ff2791bd7e9747d": {
          "model_module": "@jupyter-widgets/controls",
          "model_name": "ProgressStyleModel",
          "state": {
            "_view_name": "StyleView",
            "_model_name": "ProgressStyleModel",
            "description_width": "initial",
            "_view_module": "@jupyter-widgets/base",
            "_model_module_version": "1.5.0",
            "_view_count": null,
            "_view_module_version": "1.2.0",
            "bar_color": null,
            "_model_module": "@jupyter-widgets/controls"
          }
        },
        "0b233cdf91154772be2c2e4b994ad1ff": {
          "model_module": "@jupyter-widgets/base",
          "model_name": "LayoutModel",
          "state": {
            "_view_name": "LayoutView",
            "grid_template_rows": null,
            "right": null,
            "justify_content": null,
            "_view_module": "@jupyter-widgets/base",
            "overflow": null,
            "_model_module_version": "1.2.0",
            "_view_count": null,
            "flex_flow": null,
            "width": null,
            "min_width": null,
            "border": null,
            "align_items": null,
            "bottom": null,
            "_model_module": "@jupyter-widgets/base",
            "top": null,
            "grid_column": null,
            "overflow_y": null,
            "overflow_x": null,
            "grid_auto_flow": null,
            "grid_area": null,
            "grid_template_columns": null,
            "flex": null,
            "_model_name": "LayoutModel",
            "justify_items": null,
            "grid_row": null,
            "max_height": null,
            "align_content": null,
            "visibility": null,
            "align_self": null,
            "height": null,
            "min_height": null,
            "padding": null,
            "grid_auto_rows": null,
            "grid_gap": null,
            "max_width": null,
            "order": null,
            "_view_module_version": "1.2.0",
            "grid_template_areas": null,
            "object_position": null,
            "object_fit": null,
            "grid_auto_columns": null,
            "margin": null,
            "display": null,
            "left": null
          }
        },
        "f60f04294dcd4dd99adab05ea4038c25": {
          "model_module": "@jupyter-widgets/controls",
          "model_name": "DescriptionStyleModel",
          "state": {
            "_view_name": "StyleView",
            "_model_name": "DescriptionStyleModel",
            "description_width": "",
            "_view_module": "@jupyter-widgets/base",
            "_model_module_version": "1.5.0",
            "_view_count": null,
            "_view_module_version": "1.2.0",
            "_model_module": "@jupyter-widgets/controls"
          }
        },
        "8cdaee47518a4297a16938e381a9a2fd": {
          "model_module": "@jupyter-widgets/base",
          "model_name": "LayoutModel",
          "state": {
            "_view_name": "LayoutView",
            "grid_template_rows": null,
            "right": null,
            "justify_content": null,
            "_view_module": "@jupyter-widgets/base",
            "overflow": null,
            "_model_module_version": "1.2.0",
            "_view_count": null,
            "flex_flow": null,
            "width": null,
            "min_width": null,
            "border": null,
            "align_items": null,
            "bottom": null,
            "_model_module": "@jupyter-widgets/base",
            "top": null,
            "grid_column": null,
            "overflow_y": null,
            "overflow_x": null,
            "grid_auto_flow": null,
            "grid_area": null,
            "grid_template_columns": null,
            "flex": null,
            "_model_name": "LayoutModel",
            "justify_items": null,
            "grid_row": null,
            "max_height": null,
            "align_content": null,
            "visibility": null,
            "align_self": null,
            "height": null,
            "min_height": null,
            "padding": null,
            "grid_auto_rows": null,
            "grid_gap": null,
            "max_width": null,
            "order": null,
            "_view_module_version": "1.2.0",
            "grid_template_areas": null,
            "object_position": null,
            "object_fit": null,
            "grid_auto_columns": null,
            "margin": null,
            "display": null,
            "left": null
          }
        }
      }
    }
  },
  "cells": [
    {
      "cell_type": "markdown",
      "metadata": {
        "id": "view-in-github",
        "colab_type": "text"
      },
      "source": [
        "<a href=\"https://colab.research.google.com/github/ViktorOtroschenko/Introduction_to_Neural_Networks/blob/Lesson4/Lesson4.ipynb\" target=\"_parent\"><img src=\"https://colab.research.google.com/assets/colab-badge.svg\" alt=\"Open In Colab\"/></a>"
      ]
    },
    {
      "cell_type": "code",
      "metadata": {
        "id": "TWe3MEC3upgp"
      },
      "source": [
        "import numpy as np\n",
        "import matplotlib.pyplot as plt\n",
        "import tensorflow as tf\n",
        "from tqdm.notebook import tqdm\n",
        "\n",
        "from tensorflow.keras import layers\n",
        "from tensorflow.keras.models import Sequential, Model\n",
        "from tensorflow.keras.layers import Conv2D, Input\n",
        "from tensorflow.keras.layers import GlobalMaxPooling2D, MaxPooling2D, AveragePooling2D, GlobalAveragePooling2D\n",
        "from tensorflow.keras.layers.experimental.preprocessing import Normalization\n",
        "from tensorflow.keras.layers import Dense, Dropout, Activation, Flatten, Lambda\n",
        "from tensorflow.keras.layers.experimental.preprocessing import Resizing\n",
        "from tensorflow.keras.losses import categorical_crossentropy\n",
        "\n",
        "from keras.datasets import fashion_mnist\n",
        "from tensorflow.keras.utils import to_categorical"
      ],
      "execution_count": 1,
      "outputs": []
    },
    {
      "cell_type": "code",
      "metadata": {
        "colab": {
          "base_uri": "https://localhost:8080/"
        },
        "id": "_mfKuSdTvIv8",
        "outputId": "99036082-3582-45b6-da65-03fa60e56afc"
      },
      "source": [
        "# загрузка тренировочных и тестовых данных\n",
        "(X_train, y_train), (X_test, y_test) = fashion_mnist.load_data()"
      ],
      "execution_count": 2,
      "outputs": [
        {
          "output_type": "stream",
          "text": [
            "Downloading data from https://storage.googleapis.com/tensorflow/tf-keras-datasets/train-labels-idx1-ubyte.gz\n",
            "32768/29515 [=================================] - 0s 0us/step\n",
            "Downloading data from https://storage.googleapis.com/tensorflow/tf-keras-datasets/train-images-idx3-ubyte.gz\n",
            "26427392/26421880 [==============================] - 0s 0us/step\n",
            "Downloading data from https://storage.googleapis.com/tensorflow/tf-keras-datasets/t10k-labels-idx1-ubyte.gz\n",
            "8192/5148 [===============================================] - 0s 0us/step\n",
            "Downloading data from https://storage.googleapis.com/tensorflow/tf-keras-datasets/t10k-images-idx3-ubyte.gz\n",
            "4423680/4422102 [==============================] - 0s 0us/step\n"
          ],
          "name": "stdout"
        }
      ]
    },
    {
      "cell_type": "code",
      "metadata": {
        "id": "uTwdNhIXvJDS"
      },
      "source": [
        "# конвертация чисел из uint8 в float32\n",
        "X_train = X_train.astype('float32')\n",
        "X_test = X_test.astype('float32')\n",
        "\n",
        "# нормализация данных [0, 1]\n",
        "X_train /= 255 \n",
        "X_test /= 255 \n",
        "\n",
        "# трансформация лейблов в one-hot encoding\n",
        "y_train = to_categorical(y_train, 10) \n",
        "y_test = to_categorical(y_test, 10) \n",
        "\n",
        "# изменение размерности массива в 4D массив\n",
        "X_train = X_train.reshape(X_train.shape[0], 28,28,1)\n",
        "X_test = X_test.reshape(X_test.shape[0], 28,28,1)"
      ],
      "execution_count": 3,
      "outputs": []
    },
    {
      "cell_type": "code",
      "metadata": {
        "colab": {
          "base_uri": "https://localhost:8080/"
        },
        "id": "rWz7Tb_YvJJt",
        "outputId": "e70db1b5-80dc-4f4d-81c8-ca223fc19dd0"
      },
      "source": [
        "model = Sequential()\n",
        "\n",
        "model.add(layers.Conv2D(6, kernel_size=(5, 5), strides=(1, 1), activation='tanh', input_shape=(28,28,1), padding=\"same\"))\n",
        "model.add(layers.AveragePooling2D(pool_size=(2, 2), strides=(1, 1), padding='valid'))\n",
        "model.add(layers.Conv2D(16, kernel_size=(5, 5), strides=(1, 1), activation='tanh', padding='valid'))\n",
        "model.add(layers.AveragePooling2D(pool_size=(2, 2), strides=(2, 2), padding='valid'))\n",
        "\n",
        "model.add(layers.Conv2D(120, kernel_size=(5, 5), strides=(1, 1), activation='tanh', padding='valid'))\n",
        "model.add(layers.Flatten())\n",
        "model.add(layers.Dense(84, activation='tanh'))\n",
        "model.add(layers.Dense(10, activation='softmax'))\n",
        "\n",
        "model.compile(loss=categorical_crossentropy, optimizer='SGD', metrics=[\"accuracy\"])\n",
        "\n",
        "hist = model.fit(x=X_train, y=y_train, epochs=10, batch_size=128, validation_data=(X_test, y_test), verbose=1)\n",
        "\n",
        "test_score = model.evaluate(X_test, y_test)\n",
        "print(\"Test loss {:.4f}, accuracy {:.2f}%\".format(test_score[0], test_score[1] * 100))"
      ],
      "execution_count": 4,
      "outputs": [
        {
          "output_type": "stream",
          "text": [
            "Epoch 1/10\n",
            "469/469 [==============================] - 35s 6ms/step - loss: 1.3631 - accuracy: 0.5577 - val_loss: 0.6921 - val_accuracy: 0.7411\n",
            "Epoch 2/10\n",
            "469/469 [==============================] - 2s 5ms/step - loss: 0.6413 - accuracy: 0.7637 - val_loss: 0.6012 - val_accuracy: 0.7738\n",
            "Epoch 3/10\n",
            "469/469 [==============================] - 2s 5ms/step - loss: 0.5555 - accuracy: 0.7953 - val_loss: 0.5528 - val_accuracy: 0.8015\n",
            "Epoch 4/10\n",
            "469/469 [==============================] - 2s 5ms/step - loss: 0.5154 - accuracy: 0.8137 - val_loss: 0.5309 - val_accuracy: 0.8102\n",
            "Epoch 5/10\n",
            "469/469 [==============================] - 2s 5ms/step - loss: 0.4831 - accuracy: 0.8270 - val_loss: 0.4961 - val_accuracy: 0.8227\n",
            "Epoch 6/10\n",
            "469/469 [==============================] - 2s 5ms/step - loss: 0.4619 - accuracy: 0.8349 - val_loss: 0.4806 - val_accuracy: 0.8272\n",
            "Epoch 7/10\n",
            "469/469 [==============================] - 2s 5ms/step - loss: 0.4380 - accuracy: 0.8455 - val_loss: 0.4621 - val_accuracy: 0.8403\n",
            "Epoch 8/10\n",
            "469/469 [==============================] - 2s 5ms/step - loss: 0.4251 - accuracy: 0.8510 - val_loss: 0.4491 - val_accuracy: 0.8434\n",
            "Epoch 9/10\n",
            "469/469 [==============================] - 2s 5ms/step - loss: 0.4096 - accuracy: 0.8557 - val_loss: 0.4371 - val_accuracy: 0.8473\n",
            "Epoch 10/10\n",
            "469/469 [==============================] - 2s 5ms/step - loss: 0.4012 - accuracy: 0.8583 - val_loss: 0.4305 - val_accuracy: 0.8466\n",
            "313/313 [==============================] - 1s 2ms/step - loss: 0.4305 - accuracy: 0.8466\n",
            "Test loss 0.4305, accuracy 84.66%\n"
          ],
          "name": "stdout"
        }
      ]
    },
    {
      "cell_type": "code",
      "metadata": {
        "colab": {
          "base_uri": "https://localhost:8080/"
        },
        "id": "vDyoychnvJMj",
        "outputId": "82f9b9ea-42ef-4374-c664-d4fc340dcb99"
      },
      "source": [
        "model.summary()"
      ],
      "execution_count": 5,
      "outputs": [
        {
          "output_type": "stream",
          "text": [
            "Model: \"sequential\"\n",
            "_________________________________________________________________\n",
            "Layer (type)                 Output Shape              Param #   \n",
            "=================================================================\n",
            "conv2d (Conv2D)              (None, 28, 28, 6)         156       \n",
            "_________________________________________________________________\n",
            "average_pooling2d (AveragePo (None, 27, 27, 6)         0         \n",
            "_________________________________________________________________\n",
            "conv2d_1 (Conv2D)            (None, 23, 23, 16)        2416      \n",
            "_________________________________________________________________\n",
            "average_pooling2d_1 (Average (None, 11, 11, 16)        0         \n",
            "_________________________________________________________________\n",
            "conv2d_2 (Conv2D)            (None, 7, 7, 120)         48120     \n",
            "_________________________________________________________________\n",
            "flatten (Flatten)            (None, 5880)              0         \n",
            "_________________________________________________________________\n",
            "dense (Dense)                (None, 84)                494004    \n",
            "_________________________________________________________________\n",
            "dense_1 (Dense)              (None, 10)                850       \n",
            "=================================================================\n",
            "Total params: 545,546\n",
            "Trainable params: 545,546\n",
            "Non-trainable params: 0\n",
            "_________________________________________________________________\n"
          ],
          "name": "stdout"
        }
      ]
    },
    {
      "cell_type": "code",
      "metadata": {
        "id": "KDQFW6Z_vJPF"
      },
      "source": [
        "y_pred=model.predict(X_test)"
      ],
      "execution_count": 6,
      "outputs": []
    },
    {
      "cell_type": "code",
      "metadata": {
        "colab": {
          "base_uri": "https://localhost:8080/",
          "height": 551
        },
        "id": "UIBhHWfPvJRz",
        "outputId": "6bc5f197-1063-4b23-f993-3c4bb7a89f9c"
      },
      "source": [
        "plt.plot(y_pred[0][:])\n",
        "plt.show()\n",
        "print(y_pred[0][:])\n",
        "plt.imshow(X_test[0][:,:,0])\n",
        "plt.show()"
      ],
      "execution_count": 7,
      "outputs": [
        {
          "output_type": "display_data",
          "data": {
            "image/png": "[encoded data removed]",
            "text/plain": [
              "<Figure size 432x288 with 1 Axes>"
            ]
          },
          "metadata": {
            "tags": [],
            "needs_background": "light"
          }
        },
        {
          "output_type": "stream",
          "text": [
            "[5.1763582e-05 5.1389568e-05 4.0981476e-04 8.9274901e-05 1.3589780e-03\n",
            " 3.9277177e-02 3.0498096e-04 1.8826210e-01 5.7265796e-03 7.6446784e-01]\n"
          ],
          "name": "stdout"
        },
        {
          "output_type": "display_data",
          "data": {
            "image/png": "[encoded data removed]",
            "text/plain": [
              "<Figure size 432x288 with 1 Axes>"
            ]
          },
          "metadata": {
            "tags": [],
            "needs_background": "light"
          }
        }
      ]
    },
    {
      "cell_type": "code",
      "metadata": {
        "id": "MYe-_eQUvpbo"
      },
      "source": [
        "## 2. оценить рост точности при увеличении ширины сети (больше ядер)"
      ],
      "execution_count": 9,
      "outputs": []
    },
    {
      "cell_type": "markdown",
      "metadata": {
        "id": "QWOuuwh4vvHr"
      },
      "source": [
        ""
      ]
    },
    {
      "cell_type": "code",
      "metadata": {
        "colab": {
          "base_uri": "https://localhost:8080/",
          "height": 474,
          "referenced_widgets": [
            "565ec8547f974e59977049f0ad9e6675",
            "e452a69d8a784a7bab749314fd8d07a6",
            "9b4c73d0f4bb455dace41d9f9d639cec",
            "ad4b1a31685147268600dd4fd3735b9b",
            "0fcee7bc619f47a28ff2791bd7e9747d",
            "0b233cdf91154772be2c2e4b994ad1ff",
            "f60f04294dcd4dd99adab05ea4038c25",
            "8cdaee47518a4297a16938e381a9a2fd"
          ]
        },
        "id": "ijMBNS72vpex",
        "outputId": "d26d0a33-f2ef-43bc-8558-dd14ba13b4d2"
      },
      "source": [
        "for kernel in tqdm((2, 4, 8, 16, 32, 64, 128, 256)):\n",
        "    \n",
        "    model = Sequential([\n",
        "        Conv2D(kernel, kernel_size=(5, 5), strides=(1, 1), activation='tanh', input_shape=(28,28,1), padding=\"same\"),\n",
        "        AveragePooling2D(pool_size=(2, 2), strides=(1, 1), padding='valid'),\n",
        "        Conv2D(kernel, kernel_size=(5, 5), strides=(1, 1), activation='tanh', padding='valid'),\n",
        "        AveragePooling2D(pool_size=(2, 2), strides=(2, 2), padding='valid'),\n",
        "        Conv2D(kernel, kernel_size=(5, 5), strides=(1, 1), activation='tanh', padding='valid'),\n",
        "        Flatten(),\n",
        "        Dense(84, activation='tanh'),\n",
        "        Dense(10, activation='softmax')\n",
        "    ])\n",
        "    \n",
        "    model.compile(loss=categorical_crossentropy, optimizer='SGD', metrics=[\"accuracy\"])\n",
        "    \n",
        "    test_score = model.evaluate(X_test, y_test, verbose=0)\n",
        "    \n",
        "    hist_train = model.fit(x=X_train, y=y_train, epochs=10, batch_size=128, validation_data=(X_test, y_test), verbose=0)\n",
        "    \n",
        "    hh_train = model.evaluate(X_train, y_train, verbose=0)\n",
        "    hh_test = model.evaluate(X_test, y_test, verbose=0)\n",
        "    \n",
        "    print(f'Accuracy at {kernel} kernels:')\n",
        "    print(f'\\tTrain: {hh_train[1]}')\n",
        "    print(f'\\tTest:  {hh_test[1]}')\n"
      ],
      "execution_count": 10,
      "outputs": [
        {
          "output_type": "display_data",
          "data": {
            "application/vnd.jupyter.widget-view+json": {
              "model_id": "565ec8547f974e59977049f0ad9e6675",
              "version_minor": 0,
              "version_major": 2
            },
            "text/plain": [
              "HBox(children=(FloatProgress(value=0.0, max=8.0), HTML(value='')))"
            ]
          },
          "metadata": {
            "tags": []
          }
        },
        {
          "output_type": "stream",
          "text": [
            "Accuracy at 2 kernels:\n",
            "\tTrain: 0.8033000230789185\n",
            "\tTest:  0.7950999736785889\n",
            "Accuracy at 4 kernels:\n",
            "\tTrain: 0.8316166400909424\n",
            "\tTest:  0.8173999786376953\n",
            "Accuracy at 8 kernels:\n",
            "\tTrain: 0.8456666469573975\n",
            "\tTest:  0.8323000073432922\n",
            "Accuracy at 16 kernels:\n",
            "\tTrain: 0.8589500188827515\n",
            "\tTest:  0.8464999794960022\n",
            "Accuracy at 32 kernels:\n",
            "\tTrain: 0.8666999936103821\n",
            "\tTest:  0.8532000184059143\n",
            "Accuracy at 64 kernels:\n",
            "\tTrain: 0.8672999739646912\n",
            "\tTest:  0.8549000024795532\n",
            "Accuracy at 128 kernels:\n",
            "\tTrain: 0.8717333078384399\n",
            "\tTest:  0.8557999730110168\n",
            "Accuracy at 256 kernels:\n",
            "\tTrain: 0.8699833154678345\n",
            "\tTest:  0.8560000061988831\n",
            "\n"
          ],
          "name": "stdout"
        }
      ]
    },
    {
      "cell_type": "code",
      "metadata": {
        "colab": {
          "base_uri": "https://localhost:8080/"
        },
        "id": "DGyi8HxowbJU",
        "outputId": "780028c6-11da-4c95-c8de-04fc1cb7c630"
      },
      "source": [
        "!nvidia-smi"
      ],
      "execution_count": 12,
      "outputs": [
        {
          "output_type": "stream",
          "text": [
            "Sun May  9 20:22:15 2021       \n",
            "+-----------------------------------------------------------------------------+\n",
            "| NVIDIA-SMI 465.19.01    Driver Version: 460.32.03    CUDA Version: 11.2     |\n",
            "|-------------------------------+----------------------+----------------------+\n",
            "| GPU  Name        Persistence-M| Bus-Id        Disp.A | Volatile Uncorr. ECC |\n",
            "| Fan  Temp  Perf  Pwr:Usage/Cap|         Memory-Usage | GPU-Util  Compute M. |\n",
            "|                               |                      |               MIG M. |\n",
            "|===============================+======================+======================|\n",
            "|   0  Tesla T4            Off  | 00000000:00:04.0 Off |                    0 |\n",
            "| N/A   69C    P0    32W /  70W |   4944MiB / 15109MiB |      0%      Default |\n",
            "|                               |                      |                  N/A |\n",
            "+-------------------------------+----------------------+----------------------+\n",
            "                                                                               \n",
            "+-----------------------------------------------------------------------------+\n",
            "| Processes:                                                                  |\n",
            "|  GPU   GI   CI        PID   Type   Process name                  GPU Memory |\n",
            "|        ID   ID                                                   Usage      |\n",
            "|=============================================================================|\n",
            "+-----------------------------------------------------------------------------+\n"
          ],
          "name": "stdout"
        }
      ]
    },
    {
      "cell_type": "code",
      "metadata": {
        "id": "i08x2Kf9vphn"
      },
      "source": [
        "# При увеличении ширины сети (увеличение количества ядер) - наблюдается рост точности."
      ],
      "execution_count": null,
      "outputs": []
    },
    {
      "cell_type": "code",
      "metadata": {
        "id": "wTA0eTdivpkl"
      },
      "source": [
        "3. оценить рост точности при увеличении глубины сети (больше слоев)"
      ],
      "execution_count": null,
      "outputs": []
    },
    {
      "cell_type": "code",
      "metadata": {
        "id": "GSrHefnOvpnL"
      },
      "source": [
        "# Построим первую модель в 3-х вариантах - по 1, 2, 3 слоя\n",
        "\n",
        "one_layers_model = Sequential([\n",
        "    Conv2D(6, kernel_size=(5, 5), strides=(1, 1), activation='tanh', input_shape=(28,28,1), padding=\"same\"),\n",
        "    Flatten(),\n",
        "    Dense(84, activation='tanh'),\n",
        "    Dense(10, activation='softmax')\n",
        "])\n",
        "\n",
        "two_layers_model  = Sequential([\n",
        "    Conv2D(6, kernel_size=(5, 5), strides=(1, 1), activation='tanh', input_shape=(28,28,1), padding=\"same\"),\n",
        "    AveragePooling2D(pool_size=(2, 2), strides=(1, 1), padding='valid'),\n",
        "    Conv2D(16, kernel_size=(5, 5), strides=(1, 1), activation='tanh', padding='valid'),\n",
        "    Flatten(),\n",
        "    Dense(84, activation='tanh'),\n",
        "    Dense(10, activation='softmax')\n",
        "])\n",
        "\n",
        "three_layers_model = Sequential([\n",
        "    Conv2D(6, kernel_size=(5, 5), strides=(1, 1), activation='tanh', input_shape=(28,28,1), padding=\"same\"),\n",
        "    AveragePooling2D(pool_size=(2, 2), strides=(1, 1), padding='valid'),\n",
        "    Conv2D(16, kernel_size=(5, 5), strides=(1, 1), activation='tanh', padding='valid'),\n",
        "    AveragePooling2D(pool_size=(2, 2), strides=(2, 2), padding='valid'),\n",
        "    Conv2D(120, kernel_size=(5, 5), strides=(1, 1), activation='tanh', padding='valid'),\n",
        "    Flatten(),\n",
        "    Dense(84, activation='tanh'),\n",
        "    Dense(10, activation='softmax')\n",
        "])"
      ],
      "execution_count": 14,
      "outputs": []
    },
    {
      "cell_type": "code",
      "metadata": {
        "colab": {
          "base_uri": "https://localhost:8080/"
        },
        "id": "lRqkqoMMzHS_",
        "outputId": "dfa04a20-7248-4fe5-ecd1-2da5b9534b58"
      },
      "source": [
        "for model in (one_layers_model, two_layers_model, three_layers_model):\n",
        "\n",
        "  # compile\n",
        "  model.compile(loss=categorical_crossentropy, \n",
        "                optimizer='nadam', \n",
        "                metrics=[\"accuracy\"])\n",
        "  \n",
        "  # calc errors\n",
        "  test_score = model.evaluate(X_test, y_test, verbose=0)\n",
        "\n",
        "  # fitting\n",
        "  hist = model.fit(x=X_train,y=y_train, epochs=10, batch_size=128, validation_data=(X_test, y_test), verbose=0)\n",
        "  \n",
        "  hist_train = model.evaluate(X_train, y_train, verbose=0)\n",
        "  hist_test = model.evaluate(X_test, y_test, verbose=0)\n",
        "\n",
        "  print(f'Accuracy {model}:')\n",
        "  print(f'\\tTrain: {hist_train[1]}')\n",
        "  print(f'\\tTest: {hist_test[1]}')"
      ],
      "execution_count": 15,
      "outputs": [
        {
          "output_type": "stream",
          "text": [
            "Accuracy <tensorflow.python.keras.engine.sequential.Sequential object at 0x7fc5a0263950>:\n",
            "\tTrain: 0.9518666863441467\n",
            "\tTest: 0.8873999714851379\n",
            "Accuracy <tensorflow.python.keras.engine.sequential.Sequential object at 0x7fc5a00b3e50>:\n",
            "\tTrain: 0.9363833069801331\n",
            "\tTest: 0.8877000212669373\n",
            "Accuracy <tensorflow.python.keras.engine.sequential.Sequential object at 0x7fc5a0040f10>:\n",
            "\tTrain: 0.904533326625824\n",
            "\tTest: 0.8794000148773193\n"
          ],
          "name": "stdout"
        }
      ]
    },
    {
      "cell_type": "code",
      "metadata": {
        "id": "F63RiIfK24rt"
      },
      "source": [
        "# Вывод: При увеличении глубины сети (увеличение количества слоев) - точность падает!"
      ],
      "execution_count": 16,
      "outputs": []
    },
    {
      "cell_type": "code",
      "metadata": {
        "id": "8o8f11or24uf"
      },
      "source": [
        "4. сравнить с точностью полносвязной сети для этой выборки"
      ],
      "execution_count": null,
      "outputs": []
    },
    {
      "cell_type": "code",
      "metadata": {
        "id": "nzDT51lMzHVt"
      },
      "source": [
        "Полносвязная сеть с задания 2 урока имела следующую точность:\n",
        "nadam optimizer, accurasy:\n",
        "\tTrain: 0.8830666542053223\n",
        "\tTest:  0.8640999794006348"
      ],
      "execution_count": null,
      "outputs": []
    },
    {
      "cell_type": "code",
      "metadata": {
        "id": "qUVuu8LpzHYQ"
      },
      "source": [
        "Сейчас же с таким же оптимайзером, мы имеем:\n",
        "Train:  0.9363833069801331\n",
        "\tTest: 0.8877000212669373"
      ],
      "execution_count": null,
      "outputs": []
    },
    {
      "cell_type": "code",
      "metadata": {
        "id": "oYpKrIH16W9Z"
      },
      "source": [
        "По таким результатам, можно сделать вывод, что разница между сверточной и полносвязной нейронной сетью у нас вышла небольшая"
      ],
      "execution_count": null,
      "outputs": []
    }
  ]
}